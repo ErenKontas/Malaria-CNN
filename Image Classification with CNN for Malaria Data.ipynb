{
 "cells": [
  {
   "cell_type": "markdown",
   "id": "bd2e7fcb-c15f-4ecc-8fea-a3d3fb214961",
   "metadata": {},
   "source": [
    "# <font color=red> Image Classification with CNN for Malaria Data"
   ]
  },
  {
   "cell_type": "raw",
   "id": "b7fbbd78-be5b-4186-a57c-c95ec9452299",
   "metadata": {},
   "source": [
    "Bu çalışmamızda Birisinin Sıtma Hastalığı olup olmadığını tespit eden model geliştireceğiz."
   ]
  },
  {
   "cell_type": "code",
   "execution_count": null,
   "id": "c1a7d8be-ca48-41a7-a0df-e54dd31c6ced",
   "metadata": {},
   "outputs": [],
   "source": [
    "# Veri/Data = https://www.kaggle.com/datasets/iarunava/cell-images-for-detecting-malaria"
   ]
  },
  {
   "cell_type": "code",
   "execution_count": 1,
   "id": "4b8be3dc-5895-45b2-bc06-8b05c961f023",
   "metadata": {},
   "outputs": [],
   "source": [
    "import pandas as pd\n",
    "import os #resimleri okuduk\n",
    "import cv2\n",
    "import numpy as np\n",
    "import warnings\n",
    "warnings.filterwarnings('ignore') \n",
    "\n",
    "from sklearn.model_selection import train_test_split\n",
    "from keras.models import Sequential\n",
    "from keras.layers import Conv2D,Dense,Flatten,Input,MaxPooling2D,Dropout,BatchNormalization,Reshape"
   ]
  },
  {
   "cell_type": "code",
   "execution_count": 2,
   "id": "77750602-01f6-4558-9524-1801330c29e3",
   "metadata": {},
   "outputs": [],
   "source": [
    "labels=['Parasitized','Uninfected'] #labellarımızı tanımladık\n",
    "img_path='cell_images/'#yukarıdaki tanımladığımız labelları hangi dosyadan çekiceğimizi tanımladık"
   ]
  },
  {
   "cell_type": "code",
   "execution_count": 3,
   "id": "5900b5c0-1234-43f2-8cdf-b9dcf253a094",
   "metadata": {},
   "outputs": [],
   "source": [
    "img_list=[]#okuduğumuz resimlerin isimlerini kaydetmek için liste oluşturduk\n",
    "label_list=[]#okuduğumuz resimlerin Parasitized ya da Uninfected olup olmadığını yanına yazmak için liste oluşturduk\n",
    "for label in labels: #labels listesinin içindeki labelları okuduk\n",
    "    for img_file in os.listdir(img_path+label):# img_file diye bir data dosyası oluşturup içinde img_path+label listdir kodu ile tüm dosya işimlerini listeledik\n",
    "        img_list.append(img_path+label+'/'+img_file) #tüm dosyaların tam yollarını bir listeye toplayıp en sona .append ile yeni bir eleman ekledik\n",
    "        label_list.append(label)#.append listeye yeni bir eleman eklemeye yarıyor"
   ]
  },
  {
   "cell_type": "code",
   "execution_count": 4,
   "id": "5a612a13-dfef-43e9-84b3-870f797bf57e",
   "metadata": {},
   "outputs": [],
   "source": [
    "df=pd.DataFrame({'img':img_list,'label':label_list})#yeni bir data frame oluşturduk img diye bir sütün oluşturduk img_list verileini bu yeni sütüna ekledik. Aynısını label_list'de yaptık"
   ]
  },
  {
   "cell_type": "code",
   "execution_count": 5,
   "id": "c1faccde-b501-4335-b77b-d238ab3ee641",
   "metadata": {},
   "outputs": [
    {
     "data": {
      "text/html": [
       "<div>\n",
       "<style scoped>\n",
       "    .dataframe tbody tr th:only-of-type {\n",
       "        vertical-align: middle;\n",
       "    }\n",
       "\n",
       "    .dataframe tbody tr th {\n",
       "        vertical-align: top;\n",
       "    }\n",
       "\n",
       "    .dataframe thead th {\n",
       "        text-align: right;\n",
       "    }\n",
       "</style>\n",
       "<table border=\"1\" class=\"dataframe\">\n",
       "  <thead>\n",
       "    <tr style=\"text-align: right;\">\n",
       "      <th></th>\n",
       "      <th>img</th>\n",
       "      <th>label</th>\n",
       "    </tr>\n",
       "  </thead>\n",
       "  <tbody>\n",
       "    <tr>\n",
       "      <th>0</th>\n",
       "      <td>cell_images/Parasitized/C100P61ThinF_IMG_20150...</td>\n",
       "      <td>Parasitized</td>\n",
       "    </tr>\n",
       "    <tr>\n",
       "      <th>1</th>\n",
       "      <td>cell_images/Parasitized/C100P61ThinF_IMG_20150...</td>\n",
       "      <td>Parasitized</td>\n",
       "    </tr>\n",
       "    <tr>\n",
       "      <th>2</th>\n",
       "      <td>cell_images/Parasitized/C100P61ThinF_IMG_20150...</td>\n",
       "      <td>Parasitized</td>\n",
       "    </tr>\n",
       "    <tr>\n",
       "      <th>3</th>\n",
       "      <td>cell_images/Parasitized/C100P61ThinF_IMG_20150...</td>\n",
       "      <td>Parasitized</td>\n",
       "    </tr>\n",
       "    <tr>\n",
       "      <th>4</th>\n",
       "      <td>cell_images/Parasitized/C100P61ThinF_IMG_20150...</td>\n",
       "      <td>Parasitized</td>\n",
       "    </tr>\n",
       "  </tbody>\n",
       "</table>\n",
       "</div>"
      ],
      "text/plain": [
       "                                                 img        label\n",
       "0  cell_images/Parasitized/C100P61ThinF_IMG_20150...  Parasitized\n",
       "1  cell_images/Parasitized/C100P61ThinF_IMG_20150...  Parasitized\n",
       "2  cell_images/Parasitized/C100P61ThinF_IMG_20150...  Parasitized\n",
       "3  cell_images/Parasitized/C100P61ThinF_IMG_20150...  Parasitized\n",
       "4  cell_images/Parasitized/C100P61ThinF_IMG_20150...  Parasitized"
      ]
     },
     "execution_count": 5,
     "metadata": {},
     "output_type": "execute_result"
    }
   ],
   "source": [
    "df.head()"
   ]
  },
  {
   "cell_type": "code",
   "execution_count": 6,
   "id": "fadfc84b-018c-48d7-9c7a-d898272bd000",
   "metadata": {},
   "outputs": [
    {
     "data": {
      "text/html": [
       "<div>\n",
       "<style scoped>\n",
       "    .dataframe tbody tr th:only-of-type {\n",
       "        vertical-align: middle;\n",
       "    }\n",
       "\n",
       "    .dataframe tbody tr th {\n",
       "        vertical-align: top;\n",
       "    }\n",
       "\n",
       "    .dataframe thead th {\n",
       "        text-align: right;\n",
       "    }\n",
       "</style>\n",
       "<table border=\"1\" class=\"dataframe\">\n",
       "  <thead>\n",
       "    <tr style=\"text-align: right;\">\n",
       "      <th></th>\n",
       "      <th>img</th>\n",
       "      <th>label</th>\n",
       "    </tr>\n",
       "  </thead>\n",
       "  <tbody>\n",
       "    <tr>\n",
       "      <th>27553</th>\n",
       "      <td>cell_images/Uninfected/C99P60ThinF_IMG_2015091...</td>\n",
       "      <td>Uninfected</td>\n",
       "    </tr>\n",
       "    <tr>\n",
       "      <th>27554</th>\n",
       "      <td>cell_images/Uninfected/C99P60ThinF_IMG_2015091...</td>\n",
       "      <td>Uninfected</td>\n",
       "    </tr>\n",
       "    <tr>\n",
       "      <th>27555</th>\n",
       "      <td>cell_images/Uninfected/C99P60ThinF_IMG_2015091...</td>\n",
       "      <td>Uninfected</td>\n",
       "    </tr>\n",
       "    <tr>\n",
       "      <th>27556</th>\n",
       "      <td>cell_images/Uninfected/C99P60ThinF_IMG_2015091...</td>\n",
       "      <td>Uninfected</td>\n",
       "    </tr>\n",
       "    <tr>\n",
       "      <th>27557</th>\n",
       "      <td>cell_images/Uninfected/C99P60ThinF_IMG_2015091...</td>\n",
       "      <td>Uninfected</td>\n",
       "    </tr>\n",
       "  </tbody>\n",
       "</table>\n",
       "</div>"
      ],
      "text/plain": [
       "                                                     img       label\n",
       "27553  cell_images/Uninfected/C99P60ThinF_IMG_2015091...  Uninfected\n",
       "27554  cell_images/Uninfected/C99P60ThinF_IMG_2015091...  Uninfected\n",
       "27555  cell_images/Uninfected/C99P60ThinF_IMG_2015091...  Uninfected\n",
       "27556  cell_images/Uninfected/C99P60ThinF_IMG_2015091...  Uninfected\n",
       "27557  cell_images/Uninfected/C99P60ThinF_IMG_2015091...  Uninfected"
      ]
     },
     "execution_count": 6,
     "metadata": {},
     "output_type": "execute_result"
    }
   ],
   "source": [
    "df.tail()"
   ]
  },
  {
   "cell_type": "code",
   "execution_count": 7,
   "id": "e4019565-cd37-4342-97c1-ffce81203f75",
   "metadata": {},
   "outputs": [],
   "source": [
    "d={'Parasitized':1,'Uninfected':0}#labelları sayısal veriye çevirdik. Ana hedefimiz Parasitized olduğu için en yüksek değeri ona verdik"
   ]
  },
  {
   "cell_type": "code",
   "execution_count": 8,
   "id": "187564db-8038-4fa7-b405-8b0be689550f",
   "metadata": {},
   "outputs": [],
   "source": [
    "df['encode_label']=df['label'].map(d)"
   ]
  },
  {
   "cell_type": "code",
   "execution_count": 9,
   "id": "9292456c-a6e7-4ae4-a8bb-8c6a8c4704d3",
   "metadata": {},
   "outputs": [
    {
     "data": {
      "text/html": [
       "<div>\n",
       "<style scoped>\n",
       "    .dataframe tbody tr th:only-of-type {\n",
       "        vertical-align: middle;\n",
       "    }\n",
       "\n",
       "    .dataframe tbody tr th {\n",
       "        vertical-align: top;\n",
       "    }\n",
       "\n",
       "    .dataframe thead th {\n",
       "        text-align: right;\n",
       "    }\n",
       "</style>\n",
       "<table border=\"1\" class=\"dataframe\">\n",
       "  <thead>\n",
       "    <tr style=\"text-align: right;\">\n",
       "      <th></th>\n",
       "      <th>img</th>\n",
       "      <th>label</th>\n",
       "      <th>encode_label</th>\n",
       "    </tr>\n",
       "  </thead>\n",
       "  <tbody>\n",
       "    <tr>\n",
       "      <th>0</th>\n",
       "      <td>cell_images/Parasitized/C100P61ThinF_IMG_20150...</td>\n",
       "      <td>Parasitized</td>\n",
       "      <td>1</td>\n",
       "    </tr>\n",
       "    <tr>\n",
       "      <th>1</th>\n",
       "      <td>cell_images/Parasitized/C100P61ThinF_IMG_20150...</td>\n",
       "      <td>Parasitized</td>\n",
       "      <td>1</td>\n",
       "    </tr>\n",
       "    <tr>\n",
       "      <th>2</th>\n",
       "      <td>cell_images/Parasitized/C100P61ThinF_IMG_20150...</td>\n",
       "      <td>Parasitized</td>\n",
       "      <td>1</td>\n",
       "    </tr>\n",
       "    <tr>\n",
       "      <th>3</th>\n",
       "      <td>cell_images/Parasitized/C100P61ThinF_IMG_20150...</td>\n",
       "      <td>Parasitized</td>\n",
       "      <td>1</td>\n",
       "    </tr>\n",
       "    <tr>\n",
       "      <th>4</th>\n",
       "      <td>cell_images/Parasitized/C100P61ThinF_IMG_20150...</td>\n",
       "      <td>Parasitized</td>\n",
       "      <td>1</td>\n",
       "    </tr>\n",
       "  </tbody>\n",
       "</table>\n",
       "</div>"
      ],
      "text/plain": [
       "                                                 img        label  \\\n",
       "0  cell_images/Parasitized/C100P61ThinF_IMG_20150...  Parasitized   \n",
       "1  cell_images/Parasitized/C100P61ThinF_IMG_20150...  Parasitized   \n",
       "2  cell_images/Parasitized/C100P61ThinF_IMG_20150...  Parasitized   \n",
       "3  cell_images/Parasitized/C100P61ThinF_IMG_20150...  Parasitized   \n",
       "4  cell_images/Parasitized/C100P61ThinF_IMG_20150...  Parasitized   \n",
       "\n",
       "   encode_label  \n",
       "0             1  \n",
       "1             1  \n",
       "2             1  \n",
       "3             1  \n",
       "4             1  "
      ]
     },
     "execution_count": 9,
     "metadata": {},
     "output_type": "execute_result"
    }
   ],
   "source": [
    "df.head()"
   ]
  },
  {
   "cell_type": "code",
   "execution_count": 10,
   "id": "5dfa7fa1-c98a-4bc5-9ceb-dadaf20a15ef",
   "metadata": {},
   "outputs": [],
   "source": [
    "x=[]\n",
    "for img in df['img']: # img sütunundaki içindeki img verisine bak \n",
    "    img=cv2.imread(str(img))#resimleri string olarak okur\n",
    "    img=cv2.resize(img,(30,30))#Resimleri yeniden boyutlandırdık\n",
    "    img=img/255.0# piksel değerlerini normalleştirmek için\n",
    "    x.append(img)"
   ]
  },
  {
   "cell_type": "code",
   "execution_count": 11,
   "id": "0544b66e-03b5-4ce3-9603-4410aed350fe",
   "metadata": {},
   "outputs": [],
   "source": [
    "#bunu dışarıya yazdık, çünkü yukarıda yazsaydık dizi olur ve boyut fazlalığı hatası verir\n",
    "x=np.array(x)#yazıyı resim olarak okuyor, bu yüzden diziye çevirdik"
   ]
  },
  {
   "cell_type": "code",
   "execution_count": 12,
   "id": "612ce924-e8e7-4689-b895-d91b9fdb36b7",
   "metadata": {},
   "outputs": [],
   "source": [
    "y=df['encode_label']"
   ]
  },
  {
   "cell_type": "markdown",
   "id": "45999367-dec5-4a53-9e01-fd6ff7650a40",
   "metadata": {},
   "source": [
    "## <font color='lime'> CNN"
   ]
  },
  {
   "cell_type": "code",
   "execution_count": 13,
   "id": "be8e86e6-344c-4549-8662-05cf136b7ec1",
   "metadata": {},
   "outputs": [],
   "source": [
    "x_train,x_test,y_train,y_test=train_test_split(x,y,test_size=0.20,random_state=42)"
   ]
  },
  {
   "cell_type": "code",
   "execution_count": 14,
   "id": "cc789c8b-bdc8-4db0-bba7-596e08ec1727",
   "metadata": {},
   "outputs": [],
   "source": [
    "model=Sequential()\n",
    "model.add(Input(shape=(30,30,3))) #İşleme girecek resmin biçimini belirtdik\n",
    "model.add(Conv2D(32,kernel_size=(3,3),activation='relu'))\n",
    "model.add(MaxPooling2D(pool_size=(2,2)))\n",
    "model.add(Conv2D(64,kernel_size=(3,3),activation='relu'))\n",
    "model.add(MaxPooling2D(pool_size=(2,2)))\n",
    "model.add(Flatten())\n",
    "model.add(Dense(250))\n",
    "model.add(Dense(150))\n",
    "model.add(Dense(100))\n",
    "model.add(Dense(2,activation='softmax'))\n",
    "model.compile(optimizer='adam',loss='sparse_categorical_crossentropy',metrics=['accuracy'])"
   ]
  },
  {
   "cell_type": "code",
   "execution_count": 15,
   "id": "6223f500-879c-404c-8622-2fa311a85518",
   "metadata": {},
   "outputs": [
    {
     "name": "stdout",
     "output_type": "stream",
     "text": [
      "Epoch 1/15\n",
      "\u001b[1m689/689\u001b[0m \u001b[32m━━━━━━━━━━━━━━━━━━━━\u001b[0m\u001b[37m\u001b[0m \u001b[1m17s\u001b[0m 19ms/step - accuracy: 0.6150 - loss: 0.6541 - val_accuracy: 0.8628 - val_loss: 0.3293\n",
      "Epoch 2/15\n",
      "\u001b[1m689/689\u001b[0m \u001b[32m━━━━━━━━━━━━━━━━━━━━\u001b[0m\u001b[37m\u001b[0m \u001b[1m11s\u001b[0m 15ms/step - accuracy: 0.9075 - loss: 0.2489 - val_accuracy: 0.9398 - val_loss: 0.1737\n",
      "Epoch 3/15\n",
      "\u001b[1m689/689\u001b[0m \u001b[32m━━━━━━━━━━━━━━━━━━━━\u001b[0m\u001b[37m\u001b[0m \u001b[1m12s\u001b[0m 17ms/step - accuracy: 0.9415 - loss: 0.1698 - val_accuracy: 0.9349 - val_loss: 0.1785\n",
      "Epoch 4/15\n",
      "\u001b[1m689/689\u001b[0m \u001b[32m━━━━━━━━━━━━━━━━━━━━\u001b[0m\u001b[37m\u001b[0m \u001b[1m11s\u001b[0m 16ms/step - accuracy: 0.9477 - loss: 0.1512 - val_accuracy: 0.9421 - val_loss: 0.1709\n",
      "Epoch 5/15\n",
      "\u001b[1m689/689\u001b[0m \u001b[32m━━━━━━━━━━━━━━━━━━━━\u001b[0m\u001b[37m\u001b[0m \u001b[1m12s\u001b[0m 17ms/step - accuracy: 0.9459 - loss: 0.1505 - val_accuracy: 0.9287 - val_loss: 0.2057\n",
      "Epoch 6/15\n",
      "\u001b[1m689/689\u001b[0m \u001b[32m━━━━━━━━━━━━━━━━━━━━\u001b[0m\u001b[37m\u001b[0m \u001b[1m12s\u001b[0m 17ms/step - accuracy: 0.9488 - loss: 0.1478 - val_accuracy: 0.9434 - val_loss: 0.1671\n",
      "Epoch 7/15\n",
      "\u001b[1m689/689\u001b[0m \u001b[32m━━━━━━━━━━━━━━━━━━━━\u001b[0m\u001b[37m\u001b[0m \u001b[1m10s\u001b[0m 15ms/step - accuracy: 0.9542 - loss: 0.1330 - val_accuracy: 0.9478 - val_loss: 0.1518\n",
      "Epoch 8/15\n",
      "\u001b[1m689/689\u001b[0m \u001b[32m━━━━━━━━━━━━━━━━━━━━\u001b[0m\u001b[37m\u001b[0m \u001b[1m11s\u001b[0m 16ms/step - accuracy: 0.9548 - loss: 0.1329 - val_accuracy: 0.9517 - val_loss: 0.1546\n",
      "Epoch 9/15\n",
      "\u001b[1m689/689\u001b[0m \u001b[32m━━━━━━━━━━━━━━━━━━━━\u001b[0m\u001b[37m\u001b[0m \u001b[1m12s\u001b[0m 18ms/step - accuracy: 0.9583 - loss: 0.1234 - val_accuracy: 0.9485 - val_loss: 0.1593\n",
      "Epoch 10/15\n",
      "\u001b[1m689/689\u001b[0m \u001b[32m━━━━━━━━━━━━━━━━━━━━\u001b[0m\u001b[37m\u001b[0m \u001b[1m13s\u001b[0m 19ms/step - accuracy: 0.9585 - loss: 0.1191 - val_accuracy: 0.9467 - val_loss: 0.1724\n",
      "Epoch 11/15\n",
      "\u001b[1m689/689\u001b[0m \u001b[32m━━━━━━━━━━━━━━━━━━━━\u001b[0m\u001b[37m\u001b[0m \u001b[1m13s\u001b[0m 19ms/step - accuracy: 0.9601 - loss: 0.1135 - val_accuracy: 0.9438 - val_loss: 0.1635\n",
      "Epoch 12/15\n",
      "\u001b[1m689/689\u001b[0m \u001b[32m━━━━━━━━━━━━━━━━━━━━\u001b[0m\u001b[37m\u001b[0m \u001b[1m14s\u001b[0m 20ms/step - accuracy: 0.9640 - loss: 0.1047 - val_accuracy: 0.9476 - val_loss: 0.1581\n",
      "Epoch 13/15\n",
      "\u001b[1m689/689\u001b[0m \u001b[32m━━━━━━━━━━━━━━━━━━━━\u001b[0m\u001b[37m\u001b[0m \u001b[1m11s\u001b[0m 16ms/step - accuracy: 0.9621 - loss: 0.1099 - val_accuracy: 0.9512 - val_loss: 0.1760\n",
      "Epoch 14/15\n",
      "\u001b[1m689/689\u001b[0m \u001b[32m━━━━━━━━━━━━━━━━━━━━\u001b[0m\u001b[37m\u001b[0m \u001b[1m11s\u001b[0m 16ms/step - accuracy: 0.9631 - loss: 0.1011 - val_accuracy: 0.9439 - val_loss: 0.1802\n",
      "Epoch 15/15\n",
      "\u001b[1m689/689\u001b[0m \u001b[32m━━━━━━━━━━━━━━━━━━━━\u001b[0m\u001b[37m\u001b[0m \u001b[1m12s\u001b[0m 18ms/step - accuracy: 0.9656 - loss: 0.0979 - val_accuracy: 0.9430 - val_loss: 0.1773\n"
     ]
    }
   ],
   "source": [
    "history=model.fit(x_train,y_train,validation_data=(x_test,y_test),epochs=15,verbose=1)"
   ]
  },
  {
   "cell_type": "code",
   "execution_count": 16,
   "id": "4de64465-c188-49ed-9f3e-fb694d7264cb",
   "metadata": {},
   "outputs": [
    {
     "name": "stderr",
     "output_type": "stream",
     "text": [
      "WARNING:absl:You are saving your model as an HDF5 file via `model.save()` or `keras.saving.save_model(model)`. This file format is considered legacy. We recommend using instead the native Keras format, e.g. `model.save('my_model.keras')` or `keras.saving.save_model(model, 'my_model.keras')`. \n"
     ]
    }
   ],
   "source": [
    "model.save('My_cnn_model.h5')"
   ]
  }
 ],
 "metadata": {
  "kernelspec": {
   "display_name": "Python 3 (ipykernel)",
   "language": "python",
   "name": "python3"
  },
  "language_info": {
   "codemirror_mode": {
    "name": "ipython",
    "version": 3
   },
   "file_extension": ".py",
   "mimetype": "text/x-python",
   "name": "python",
   "nbconvert_exporter": "python",
   "pygments_lexer": "ipython3",
   "version": "3.12.4"
  }
 },
 "nbformat": 4,
 "nbformat_minor": 5
}
